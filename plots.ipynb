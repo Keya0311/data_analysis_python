{
 "cells": [
  {
   "cell_type": "code",
   "execution_count": null,
   "id": "374ca6e8-916e-4a69-ad60-ae16f275b4a5",
   "metadata": {},
   "outputs": [],
   "source": [
    "import pandas as pd\n",
    "import numpy as np\n",
    "import piplite\n",
    "await piplite.install('seaborn')"
   ]
  },
  {
   "cell_type": "code",
   "execution_count": null,
   "id": "493383b0-92e7-435c-bad0-2e3bb5e06881",
   "metadata": {},
   "outputs": [],
   "source": [
    "#install specific version of libraries used in lab\n",
    "#! mamba install pandas==1.3.3\n",
    "#! mamba install numpy=1.21.2\n",
    "#! mamba install scipy=1.7.1-y\n",
    "#!  mamba install seaborn=0.9.0-y"
   ]
  },
  {
   "cell_type": "code",
   "execution_count": null,
   "id": "c5b13331-a9c1-4ebc-894c-2e716d232bdf",
   "metadata": {},
   "outputs": [],
   "source": [
    "import pandas as pd\n",
    "import numpy as np\n",
    "import piplite\n",
    "await piplite.install('seaborn')"
   ]
  },
  {
   "cell_type": "code",
   "execution_count": null,
   "id": "768bfed5-19cd-44d3-9442-e05124e51625",
   "metadata": {},
   "outputs": [],
   "source": [
    "import piplite\n",
    "await piplite.install('seaborn')"
   ]
  },
  {
   "cell_type": "code",
   "execution_count": null,
   "id": "ca070f48-2175-4192-8e81-e3cc8db705ae",
   "metadata": {},
   "outputs": [],
   "source": [
    "pip install pandas"
   ]
  },
  {
   "cell_type": "code",
   "execution_count": null,
   "id": "4dc8ae69-ef73-43be-a4bb-fd88f89f654a",
   "metadata": {},
   "outputs": [],
   "source": [
    "pip install --upgrade pip"
   ]
  },
  {
   "cell_type": "code",
   "execution_count": null,
   "id": "ec7cbebb-4cb7-4378-945e-5a9cd164b14b",
   "metadata": {},
   "outputs": [],
   "source": [
    "pip install numpy"
   ]
  },
  {
   "cell_type": "code",
   "execution_count": null,
   "id": "fe9710ee-2c53-418f-97a9-22836aebb940",
   "metadata": {},
   "outputs": [],
   "source": [
    "pip install matplotlib"
   ]
  },
  {
   "cell_type": "code",
   "execution_count": null,
   "id": "b96600f5-cc30-4f47-8d5e-62428d9c566b",
   "metadata": {},
   "outputs": [],
   "source": [
    "pip install seaborn"
   ]
  },
  {
   "cell_type": "code",
   "execution_count": null,
   "id": "2914144f-f360-4357-9106-c04a3a51cac9",
   "metadata": {},
   "outputs": [],
   "source": [
    "pip install scipy"
   ]
  },
  {
   "cell_type": "code",
   "execution_count": null,
   "id": "ca9954b3-da05-40f7-b745-596f1dff975b",
   "metadata": {},
   "outputs": [],
   "source": [
    "import numpy as np\n",
    "import pandas as pd\n",
    "import matplotlib.pyplot as plt\n",
    "import seaborn as sns\n",
    "from scipy import stats\n",
    "%matplotlib inline"
   ]
  },
  {
   "cell_type": "code",
   "execution_count": null,
   "id": "bd1ce7ce-97eb-4936-9e9c-c26057def73d",
   "metadata": {},
   "outputs": [],
   "source": [
    "from pyodide.http import pyfetch\n",
    "\n",
    "async def download(url, filename):\n",
    "    response = await pyfetch(url)\n",
    "    if response.status == 200:\n",
    "        with open(filename, \"wb\") as f:\n",
    "            f.write(await response.bytes())"
   ]
  },
  {
   "cell_type": "code",
   "execution_count": null,
   "id": "8ca82c34-b0d5-4197-9953-8f4367d40505",
   "metadata": {},
   "outputs": [],
   "source": [
    "filepath=\"https://cf-courses-data.s3.us.cloud-object-storage.appdomain.cloud/IBMDeveloperSkillsNetwork-DA0101EN-Coursera/laptop_pricing_dataset_mod2.csv\""
   ]
  },
  {
   "cell_type": "code",
   "execution_count": null,
   "id": "c5d4dac3-0854-4f44-81be-d720058451aa",
   "metadata": {},
   "outputs": [],
   "source": [
    "df = pd.read_csv(filepath, header=None)"
   ]
  },
  {
   "cell_type": "code",
   "execution_count": null,
   "id": "f46f5eef-8e0d-45f0-ada0-0539fe1d987b",
   "metadata": {},
   "outputs": [],
   "source": [
    "df.head(5)"
   ]
  },
  {
   "cell_type": "markdown",
   "id": "9a420c7a-1167-455a-9df7-ff148a46c1eb",
   "metadata": {},
   "source": [
    "Task 1 - Visualize individual feature patterns\n",
    "Continuous valued features\n",
    "Generate regression plots for each of the parameters \"CPU_frequency\", \"Screen_Size_inch\" and \"Weight_pounds\" against \"Price\". Also, print the value of correlation of each feature with \"Price\"."
   ]
  },
  {
   "cell_type": "code",
   "execution_count": null,
   "id": "fe1adce6-f107-48cd-949a-69462f1f1f13",
   "metadata": {},
   "outputs": [],
   "source": [
    "# CPU_frequency plot\n",
    "sns.regplot(x='CPU_frequency', y='Price', data=df)\n",
    "plt.ylim(0,)"
   ]
  },
  {
   "cell_type": "code",
   "execution_count": null,
   "id": "aae06d3c-ce37-45ba-a3bd-1a794aaf9228",
   "metadata": {},
   "outputs": [],
   "source": [
    "# Screen_Size_inch plot\n",
    "sns.regplot(x='Screen_Size_inch', y='Price', data=df)\n",
    "plt.ylim(0,)"
   ]
  },
  {
   "cell_type": "code",
   "execution_count": null,
   "id": "6fd6fa82-25cd-4566-9f03-274100a7b607",
   "metadata": {},
   "outputs": [],
   "source": [
    "# Weight_pounds plot\n",
    "sns.regplot(x='Weight_pounds', y='Price', data=df)\n",
    "plt.ylim(0,)"
   ]
  },
  {
   "cell_type": "code",
   "execution_count": null,
   "id": "99b99fd8-a8dc-41fb-8520-57124f7ab6a7",
   "metadata": {},
   "outputs": [],
   "source": [
    "# Correlation values of the three attributes with Price\n",
    "df[[\"CPU_frequency\", \"Screen_Size_inch\" , \"Weight_pounds\",\"Price\"]].corr()"
   ]
  },
  {
   "cell_type": "markdown",
   "id": "a3efad46-3183-4f8c-8880-d024e71e8737",
   "metadata": {},
   "source": [
    "Categorical features\n",
    "Generate Box plots for the different feature that hold categorical values. These features would be \"Category\", \"GPU\", \"OS\", \"CPU_core\", \"RAM_GB\", \"Storage_GB_SSD\""
   ]
  },
  {
   "cell_type": "code",
   "execution_count": null,
   "id": "4d0c70de-3d1f-441b-b25c-f61c7de66ffd",
   "metadata": {},
   "outputs": [],
   "source": [
    "# Category Box plot\n",
    "sns.boxplot(x='Category', y=\"Price\", data=df)"
   ]
  },
  {
   "cell_type": "code",
   "execution_count": null,
   "id": "be029c7b-e2b4-4171-88cb-b096a02856b9",
   "metadata": {},
   "outputs": [],
   "source": [
    "# GPU Box plot\n",
    "sns.boxplot(x=\"GPU\", y=\"Price\", data=df)"
   ]
  },
  {
   "cell_type": "code",
   "execution_count": null,
   "id": "bfc97434-5f89-413c-8310-69d1556332c9",
   "metadata": {},
   "outputs": [],
   "source": [
    "# OS Box plot\n",
    "sns.boxplot(x=\"OS\", y=\"Price\", data=df)"
   ]
  },
  {
   "cell_type": "code",
   "execution_count": null,
   "id": "e2bfb93e-3fe8-4e70-bb0c-c758445f4c56",
   "metadata": {},
   "outputs": [],
   "source": [
    "# CPU_core Box plot\n",
    "sns.boxplot(x=\"CPU_core\", y=\"Price\", data=df)"
   ]
  },
  {
   "cell_type": "code",
   "execution_count": null,
   "id": "dc68e640-1bcd-44c2-a7bc-b03364f0ea11",
   "metadata": {},
   "outputs": [],
   "source": [
    "# RAM_GB Box plot\n",
    "sns.boxplot(x=\"RAM_GB\", y=\"Price\", data=df)"
   ]
  },
  {
   "cell_type": "code",
   "execution_count": null,
   "id": "ff640a3d-6946-43ee-9377-00e12864ea65",
   "metadata": {},
   "outputs": [],
   "source": [
    "# Storage_GB_SSD Box plot\n",
    "sns.boxplot(x=\"Storage_GB_SSD\", y=\"Price\", data=df)"
   ]
  },
  {
   "cell_type": "raw",
   "id": "14a50dd2-1968-417c-90cf-0ea24cfbfd2e",
   "metadata": {},
   "source": [
    "Task 2 - Descriptive Statistical Analysis"
   ]
  },
  {
   "cell_type": "markdown",
   "id": "f4ce570a-79ac-4242-97e1-9781f8a9c3ef",
   "metadata": {},
   "source": [
    "Generate the statistical description of all the features being used in the data set. Include \"object\" data types as well.\n"
   ]
  },
  {
   "cell_type": "code",
   "execution_count": null,
   "id": "5d5e78fa-4d6c-4d24-82cd-8ab53b6137ac",
   "metadata": {},
   "outputs": [],
   "source": [
    "print(df.describe())\n",
    "print(df.describe(include=['object']))"
   ]
  },
  {
   "cell_type": "markdown",
   "id": "636838bb-5aee-4f2b-a3b8-de2108394f00",
   "metadata": {},
   "source": [
    "# Task 3 - GroupBy and Pivot Tables\n",
    "\n",
    "Group the parameters \"GPU\", \"CPU_core\" and \"Price\" to make a pivot table and visualize this connection using the pcolor plot.\n"
   ]
  },
  {
   "cell_type": "code",
   "execution_count": null,
   "id": "50f35194-1397-4130-93f3-8bb36b64f193",
   "metadata": {},
   "outputs": [],
   "source": [
    "# Create the group\n",
    "group_test=df[[ \"GPU\", \"CPU_core\", \"Price\" ]]\n",
    "group_variable_test=group_test.groupby([\"GPU\", \"CPU_core\"],as_index=False).mean()\n",
    "group_variable_test"
   ]
  },
  {
   "cell_type": "code",
   "execution_count": null,
   "id": "231ee771-824c-465a-aded-0fb29d73598a",
   "metadata": {},
   "outputs": [],
   "source": [
    "# Create the Pivot table\n",
    "grouped_pivot=group_variable_test.pivot(index='GPU',columns='CPU_core')\n",
    "grouped_pivot"
   ]
  },
  {
   "cell_type": "code",
   "execution_count": null,
   "id": "6b85cda1-9ee1-46d4-9da7-df854f2d7283",
   "metadata": {},
   "outputs": [],
   "source": [
    "# Create the Plot\n",
    "plt.pcolor(grouped_pivot, cmap='RdBu')\n",
    "plt.colorbar()\n",
    "plt.show()"
   ]
  },
  {
   "cell_type": "markdown",
   "id": "b0e0e357-e722-4dd2-a301-d35492bd6ada",
   "metadata": {},
   "source": [
    "Task 4 - Pearson Correlation and p-values\n",
    "Use the scipy.stats.pearsonr() function to evaluate the Pearson Coefficient and the p-values for each parameter tested above. This will help you determine the parameters most likely to have a strong effect on the price of the laptops."
   ]
  },
  {
   "cell_type": "code",
   "execution_count": null,
   "id": "2c1ebe39-10e0-42c2-8fc0-5990ca9101ec",
   "metadata": {},
   "outputs": [],
   "source": [
    "for var in ['RAM_GB','CPU_frequency','Storage_GB_SSD','Screen_Size_inch','Weight_pounds','CPU_core','OS','GPU','Category']:\n",
    "    pearson_coef, p_value=stats.pearsonr(df[var],df['Price'])\n",
    "    print(\"the pearson correlation coefficient for\", var,\"is\",pearson_coef, \"and p_value is\",p_value)"
   ]
  },
  {
   "cell_type": "code",
   "execution_count": null,
   "id": "3c791de8-457a-4bf0-8d38-f4d94971d282",
   "metadata": {},
   "outputs": [],
   "source": []
  }
 ],
 "metadata": {
  "kernelspec": {
   "display_name": "Python 3 (ipykernel)",
   "language": "python",
   "name": "python3"
  },
  "language_info": {
   "codemirror_mode": {
    "name": "ipython",
    "version": 3
   },
   "file_extension": ".py",
   "mimetype": "text/x-python",
   "name": "python",
   "nbconvert_exporter": "python",
   "pygments_lexer": "ipython3",
   "version": "3.11.4"
  }
 },
 "nbformat": 4,
 "nbformat_minor": 5
}
